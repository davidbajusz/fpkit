{
 "cells": [
  {
   "cell_type": "code",
   "execution_count": 1,
   "metadata": {},
   "outputs": [],
   "source": [
    "import numpy as np\n",
    "import pandas as pd\n",
    "import fpkit.similarity as fpkit"
   ]
  },
  {
   "cell_type": "markdown",
   "metadata": {},
   "source": [
    "# FPKit (Fingerprint Kit) usage example for CATA (check-all-that-apply) datasets\n",
    "\n",
    "If you use this code, please cite our work: \n",
    "\n",
    "The input table contains CATA sensory evaluation data for multiple assessors and multiple products (samples).\n",
    "\n",
    "The first cell reads the input data and produces two multi-sheet excel files: one for the assessors, one for the samples. Each sheet contains pairwise similarity values for each sample pair/assessor pair according to the 44 metrics implemented in FPKit, for one specific assessor/sample, respectively."
   ]
  },
  {
   "cell_type": "code",
   "execution_count": 2,
   "metadata": {},
   "outputs": [],
   "source": [
    "# Read the excel file with the first two columns as indexes\n",
    "indata=pd.read_excel('./CATA_example.xlsx', header=0, index_col=[0,1])\n",
    "# Get rid of last column (overall liking)\n",
    "indata=indata.iloc[:,:-1]\n",
    "\n",
    "# Currently handles two-level indexes\n",
    "for lev in range(0,len(indata.index.levels)):\n",
    "    with pd.ExcelWriter('CATA_'+indata.index.get_level_values(lev).name+'_44metrics.xlsx') as writer:\n",
    "        # 'Fix' one of the index levels (assessor, sample) to iterate over the other one\n",
    "        for fixed in indata.index.get_level_values(lev).unique():\n",
    "            # One value from the fixed level picked\n",
    "            dfSlice=indata[np.in1d(indata.index.get_level_values(lev), [fixed])]\n",
    "            df=pd.DataFrame()\n",
    "            # Calculate the similarity metrics\n",
    "            for metric in fpkit.metrics:\n",
    "                dm=[]\n",
    "                counter=0\n",
    "                indices=[]\n",
    "                # Iterate over object pairs at the non-fixed index level\n",
    "                for i in dfSlice.index:\n",
    "                    counter+=1\n",
    "                    for j in dfSlice.index[counter:]:\n",
    "                        # Collect index pairs from the non-fixed index level\n",
    "                        indices.append((i[1-lev],j[1-lev]))\n",
    "                        # Append similarity to flattened similarity matrix (upper triangle only)\n",
    "                        dm.append(fpkit.sim(*fpkit.get_abcdp(list(dfSlice.loc[i]),list(dfSlice.loc[j])),metric=metric,scale=True))\n",
    "                # Collect to dataframe\n",
    "                df[metric]=pd.Series(dm, name=metric)\n",
    "            # Reattach index pairs and write to excel sheet\n",
    "            df.index=indices\n",
    "            df.to_excel(writer,sheet_name=str(fixed))"
   ]
  },
  {
   "cell_type": "markdown",
   "metadata": {},
   "source": [
    "\n",
    "\n",
    "The second cell aggregates the primary results by copying the individual sheet contents to one large sheet, appending the name of the assessor and the row-wise average similarity as the last two columns. It also creates a second sheet by pivoting the first one, keeping the average similarities only."
   ]
  },
  {
   "cell_type": "code",
   "execution_count": 3,
   "metadata": {},
   "outputs": [],
   "source": [
    "############## Aggregate results to a single table\n",
    "\n",
    "with pd.ExcelWriter('CATA_Assessor_collected.xlsx') as writer:\n",
    "    xl = pd.ExcelFile('./CATA_Assessor_44metrics.xlsx')\n",
    "    sheets=xl.sheet_names\n",
    "\n",
    "    # Read list of columns\n",
    "    df=pd.read_excel('./CATA_Assessor_44metrics.xlsx', sheet_name=sheets[0])\n",
    "    columns=list(df.columns)\n",
    "\n",
    "    # Append a column name for collecting the assessor names\n",
    "    columns.append('Assessor')\n",
    "\n",
    "    # Initiate dataframe to collect results\n",
    "    collectiondf=pd.DataFrame(columns=columns)\n",
    "\n",
    "    # Iterate over all assessors\n",
    "    for sheet in sheets:\n",
    "        df=pd.read_excel('./CATA_Assessor_44metrics.xlsx', sheet_name=str(sheet))\n",
    "        df['Assessor']=sheet\n",
    "        collectiondf=collectiondf.append(df)\n",
    "\n",
    "    # Calculate row-wise average similarities\n",
    "    collectiondf['mean']=collectiondf.iloc[:,:-1].mean(axis=1)\n",
    "    # Write to excel\n",
    "    collectiondf.to_excel(writer, sheet_name='All data')\n",
    "    \n",
    "    # Collect average similarities into second sheet, by pivoting first sheet\n",
    "    collectiondf2=collectiondf.pivot(columns='Assessor', values='mean')\n",
    "    \n",
    "    # Reindex column names numerically\n",
    "    collectiondf2.columns=pd.to_numeric(collectiondf2.columns)\n",
    "    collectiondf2 = collectiondf2.reindex(sorted(collectiondf2.columns), axis=1)\n",
    "    # Reindex row names based on last input sheet\n",
    "    collectiondf2 = collectiondf2.reindex(df.index, axis=0)\n",
    "    \n",
    "    # Write to excel\n",
    "    collectiondf2.to_excel(writer, sheet_name='Mean similarities')"
   ]
  },
  {
   "cell_type": "code",
   "execution_count": null,
   "metadata": {},
   "outputs": [],
   "source": []
  }
 ],
 "metadata": {
  "kernelspec": {
   "display_name": "Python 3",
   "language": "python",
   "name": "python3"
  },
  "language_info": {
   "codemirror_mode": {
    "name": "ipython",
    "version": 3
   },
   "file_extension": ".py",
   "mimetype": "text/x-python",
   "name": "python",
   "nbconvert_exporter": "python",
   "pygments_lexer": "ipython3",
   "version": "3.8.5"
  }
 },
 "nbformat": 4,
 "nbformat_minor": 1
}
